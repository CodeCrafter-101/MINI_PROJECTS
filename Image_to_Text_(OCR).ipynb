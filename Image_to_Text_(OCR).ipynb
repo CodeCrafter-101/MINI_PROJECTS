{
  "nbformat": 4,
  "nbformat_minor": 0,
  "metadata": {
    "colab": {
      "provenance": [],
      "authorship_tag": "ABX9TyOaJG1dMtA58NwiBMCgNSbx",
      "include_colab_link": true
    },
    "kernelspec": {
      "name": "python3",
      "display_name": "Python 3"
    },
    "language_info": {
      "name": "python"
    }
  },
  "cells": [
    {
      "cell_type": "markdown",
      "metadata": {
        "id": "view-in-github",
        "colab_type": "text"
      },
      "source": [
        "<a href=\"https://colab.research.google.com/github/CodeCrafter-101/MINI_PROJECTS/blob/main/Image_to_Text_(OCR).ipynb\" target=\"_parent\"><img src=\"https://colab.research.google.com/assets/colab-badge.svg\" alt=\"Open In Colab\"/></a>"
      ]
    },
    {
      "cell_type": "code",
      "execution_count": null,
      "metadata": {
        "colab": {
          "base_uri": "https://localhost:8080/"
        },
        "id": "-rhwIe1fO_DE",
        "outputId": "dd73e721-74c8-4695-a2f6-724384b8d2b8"
      },
      "outputs": [
        {
          "output_type": "stream",
          "name": "stdout",
          "text": [
            "Reading package lists... Done\n",
            "Building dependency tree... Done\n",
            "Reading state information... Done\n",
            "tesseract-ocr is already the newest version (4.1.1-2.1build1).\n",
            "0 upgraded, 0 newly installed, 0 to remove and 35 not upgraded.\n",
            "Requirement already satisfied: pytesseract in /usr/local/lib/python3.11/dist-packages (0.3.13)\n",
            "Requirement already satisfied: packaging>=21.3 in /usr/local/lib/python3.11/dist-packages (from pytesseract) (24.2)\n",
            "Requirement already satisfied: Pillow>=8.0.0 in /usr/local/lib/python3.11/dist-packages (from pytesseract) (9.0.0)\n",
            "Requirement already satisfied: Pillow==9.0.0 in /usr/local/lib/python3.11/dist-packages (9.0.0)\n"
          ]
        }
      ],
      "source": [
        "!sudo apt install tesseract-ocr\n",
        "!pip install pytesseract\n",
        "!pip install Pillow==9.0.0"
      ]
    },
    {
      "cell_type": "code",
      "source": [
        "from PIL import Image\n",
        "import pytesseract\n",
        "\n",
        "text=pytesseract.image_to_string(Image.open('/content/pic.png'))\n",
        "\n",
        "print(text)"
      ],
      "metadata": {
        "colab": {
          "base_uri": "https://localhost:8080/"
        },
        "id": "N7HKINDgQSkZ",
        "outputId": "d18e1bda-9d61-40f6-b4a4-6e0be9a17628"
      },
      "execution_count": null,
      "outputs": [
        {
          "output_type": "stream",
          "name": "stdout",
          "text": [
            "One-sided love\n",
            "\n",
            "People call it one-sided love,\n",
            "but for me\n",
            "\n",
            "It’s the touch I never feel,\n",
            "The warmth which never\n",
            "heal,\n",
            "\n",
            "The cold shoulder that won't\n",
            "peel.\n",
            "\n",
            "We stay Close, yet... it never\n",
            "reveal,\n",
            "\n",
            "I wish I knew how to express,\n",
            "But my heart holds still.\n",
            "\n",
            "Its just my one-sided love,\n",
            "Other, yet, may never feel.\n",
            "A love I feel, but it stays\n",
            "unreveatled...\n",
            "\f\n"
          ]
        }
      ]
    }
  ]
}